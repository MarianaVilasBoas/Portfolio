{
  "nbformat": 4,
  "nbformat_minor": 0,
  "metadata": {
    "colab": {
      "name": "Churn Prediction para uma empresa de Telecomunicações.ipynb",
      "provenance": [],
      "collapsed_sections": [],
      "include_colab_link": true
    },
    "kernelspec": {
      "name": "python3",
      "display_name": "Python 3"
    }
  },
  "cells": [
    {
      "cell_type": "markdown",
      "metadata": {
        "id": "view-in-github",
        "colab_type": "text"
      },
      "source": [
        "<a href=\"https://colab.research.google.com/github/MarianaVilasBoas/Portfolio/blob/main/Churn_Prediction_para_uma_empresa_de_Telecomunica%C3%A7%C3%B5es.ipynb\" target=\"_parent\"><img src=\"https://colab.research.google.com/assets/colab-badge.svg\" alt=\"Open In Colab\"/></a>"
      ]
    },
    {
      "cell_type": "markdown",
      "metadata": {
        "id": "IR56trFcPcC1"
      },
      "source": [
        "# Churn Prediction\n",
        "\n",
        "Vocês sabem o que é o termo _**Churn**_ representa e por que é tão discutido hoje em dias pelas empresas? \n",
        "\n",
        "_**Churn**_ representa a taxa de evasão dos clientes, isto é, percentual de usuários que deixam de usar os serviços da empresa para usufruir dos concorrentes. Esse tema revolucionou o modo que as empresas olham para os seus clientes e é sobre isso que vamos conversar.\n",
        "\n",
        "<center><img alt=\"Churn Rate\" width=\"55%\" src=\"https://www.questionpro.com/blog/wp-content/uploads/2018/03/churn.png\"></center>\n",
        "\n",
        "\n",
        "Apesar dos esforços das companhias estarem sempre voltados para a conquista de novos clientes, devemos nos fazer as seguintes perguntas: \n",
        "\n",
        "_**Qual a vantagem de se conquistar um novo cliente se há a perda de um já existente?**_\n",
        "\n",
        "_**Qual o custo da falta de conhecimento de um cliente recém prospectado? Como é o seu comportamento? Ele pagará os serviços em dia?**_\n",
        "\n",
        "\n",
        "Para as empresas o processo de fidelizar um cliente é menos oneroso do que de se adquirir um novo (CAC). Por isso, as companhias estão cada vez mais focadas na manutenção e permananência de seus clientes, em aumentar o LTV (Life Time Value), isto é, receita total gerada pelo cliente enquanto permanecer utilizando os serviços.\n",
        "\n",
        "A capacidade de prever quando um cliente deixará de usar os seus serviços se tornou um diferencial pois permite que empresa adote medidas preventivas antes que o cancelamento ocorra. Com isso em mente, de que forma as companhias têm investido em identificar se o cliente está insatisfeito?\n",
        "\n",
        "Um método que muitas empresas adotam para realizar o gerenciamento dos seus usuários é o CRM (Customer Relationship Management). O CRM permite o aumento das interações com o consumidor e a conversão de informações em um relacionamento com os seus clientes. Esse método possui quatro principais estratégias:\n",
        "* Identificar os clientes\n",
        "* Diferenciar os clientes\n",
        "* Interagir com os clientes\n",
        "* Personalizar o relacionamento\n",
        "\n",
        "Como podemos ver o _**Churn**_ está diretamente ligado com as estratégias do CRM. Esta ferramenta é amplamente utilizada para identificar perfis de clientes com alto potencial de atrito, segmentação de perfis e interação e personalização da experiência dos usuários. \n",
        "\n",
        "\n",
        "Dito isso, o nosso objetivo é desenvolver um modelo de Machine Learning capaz de identificar potenciais clientes com altas chances de cancelamento para que a empresa consiga tomar medidas preventivas para evitar a desistência. Desse modo é possível diminuir os custos com as conversões e a empresa pode se concentrar em atrair novos clientes visto que com um _overview_ do comportamento da sua base de clientes se torna mais fácil antever as suas necessidades."
      ]
    },
    {
      "cell_type": "markdown",
      "metadata": {
        "id": "0HVmpIxQWT4Y"
      },
      "source": [
        "## Aquisição dos Dados\n",
        "O mercado de telecomunicações é marcado por uma intensa concorrência. Em um meio que se diferenciar dos concorrentes é uma tarefa complicada e a guerra de preços é abundante, a retenção de clientes é uma iniciativa um tanto quanto complicada porém, sobretudo, essencial.   \n",
        "\n",
        "As empresas do segmento de telecomunicações são  diretamente impactadas pelo _**Churn**_  e usufruem do marketing de relacionamento na tentativa de reter seus clientes. E, por isso, vamos analisar uma base de dados disponibilizada na [plataforma de ensino da IBM Developer](https://developer.ibm.com/technologies/data-science/patterns/predict-customer-churn-using-watson-studio-and-jupyter-notebooks/#). Este _dataframe_ se trata de um problema típico de uma companhia de telecomunicações e pode ser acessado [neste link](https://raw.githubusercontent.com/carlosfab/dsnp2/master/datasets/WA_Fn-UseC_-Telco-Customer-Churn.csv)."
      ]
    },
    {
      "cell_type": "markdown",
      "metadata": {
        "id": "j9fbLq73oUuv"
      },
      "source": [
        "## Obtenção dos Dados\n",
        "\n",
        "Inicialmente, importei o nosso _dataset_  para dentro de uma estrutura *Dataframe* - e não havendo a necessidade de mais nenhum ajuste ou configuração nesta etapa, pode-se iniciar uma análise exploratória dos dados a fim de preparar um modelo de *Machine Learning*."
      ]
    },
    {
      "cell_type": "code",
      "metadata": {
        "id": "oQ4bNy7udtEE",
        "colab": {
          "base_uri": "https://localhost:8080/"
        },
        "outputId": "60223940-453c-4c07-8a74-f4d52702ec30"
      },
      "source": [
        "# importar os pacotes necessários\n",
        "import pandas as pd\n",
        "import numpy as np\n",
        "import matplotlib.pyplot as plt\n",
        "import seaborn as sns\n",
        "!pip install scikit-plot;\n",
        "\n",
        "# importar os dados\n",
        "DATA_PATH = \"https://raw.githubusercontent.com/carlosfab/dsnp2/master/datasets/WA_Fn-UseC_-Telco-Customer-Churn.csv\"\n",
        "df = pd.read_csv(DATA_PATH)"
      ],
      "execution_count": null,
      "outputs": [
        {
          "output_type": "stream",
          "name": "stdout",
          "text": [
            "Requirement already satisfied: scikit-plot in /usr/local/lib/python3.7/dist-packages (0.3.7)\n",
            "Requirement already satisfied: matplotlib>=1.4.0 in /usr/local/lib/python3.7/dist-packages (from scikit-plot) (3.2.2)\n",
            "Requirement already satisfied: joblib>=0.10 in /usr/local/lib/python3.7/dist-packages (from scikit-plot) (1.1.0)\n",
            "Requirement already satisfied: scikit-learn>=0.18 in /usr/local/lib/python3.7/dist-packages (from scikit-plot) (1.0.1)\n",
            "Requirement already satisfied: scipy>=0.9 in /usr/local/lib/python3.7/dist-packages (from scikit-plot) (1.4.1)\n",
            "Requirement already satisfied: pyparsing!=2.0.4,!=2.1.2,!=2.1.6,>=2.0.1 in /usr/local/lib/python3.7/dist-packages (from matplotlib>=1.4.0->scikit-plot) (3.0.6)\n",
            "Requirement already satisfied: kiwisolver>=1.0.1 in /usr/local/lib/python3.7/dist-packages (from matplotlib>=1.4.0->scikit-plot) (1.3.2)\n",
            "Requirement already satisfied: numpy>=1.11 in /usr/local/lib/python3.7/dist-packages (from matplotlib>=1.4.0->scikit-plot) (1.19.5)\n",
            "Requirement already satisfied: cycler>=0.10 in /usr/local/lib/python3.7/dist-packages (from matplotlib>=1.4.0->scikit-plot) (0.11.0)\n",
            "Requirement already satisfied: python-dateutil>=2.1 in /usr/local/lib/python3.7/dist-packages (from matplotlib>=1.4.0->scikit-plot) (2.8.2)\n",
            "Requirement already satisfied: six>=1.5 in /usr/local/lib/python3.7/dist-packages (from python-dateutil>=2.1->matplotlib>=1.4.0->scikit-plot) (1.15.0)\n",
            "Requirement already satisfied: threadpoolctl>=2.0.0 in /usr/local/lib/python3.7/dist-packages (from scikit-learn>=0.18->scikit-plot) (3.0.0)\n"
          ]
        }
      ]
    },
    {
      "cell_type": "markdown",
      "metadata": {
        "id": "r5rCMSPIogFx"
      },
      "source": [
        "## Análise Exploratória\n",
        "\n",
        "Inicialmente verifiquei as cinco primeiras entradas do _dataframe_:\n",
        "* Se trata de um problema supervisionado de classificação, onde vamos prever se um cliente irá ou não cancelar os seviços contratados\n",
        "* A variável 'customerID' não agrega nenhum conhecimento e pode ser retirada sem prejudicar a análise\n",
        "* A maioria das variáveis são categóricas e terão que passar por um processo de decodificação\n",
        "* A variável alvo corresponde à coluna 'Churn' que classifica o cliente em:\n",
        "  * 0 - cliente continua utilizando os serviços\n",
        "  * 1 - cliente cancelou os serviços"
      ]
    },
    {
      "cell_type": "code",
      "metadata": {
        "colab": {
          "base_uri": "https://localhost:8080/",
          "height": 313
        },
        "id": "QyO-DWpRofr7",
        "outputId": "6fc38372-6c5f-45ce-cafd-41ea39ff8af8"
      },
      "source": [
        "# ver as 5 primeiras entradas\n",
        "df.head()"
      ],
      "execution_count": null,
      "outputs": [
        {
          "output_type": "execute_result",
          "data": {
            "text/html": [
              "<div>\n",
              "<style scoped>\n",
              "    .dataframe tbody tr th:only-of-type {\n",
              "        vertical-align: middle;\n",
              "    }\n",
              "\n",
              "    .dataframe tbody tr th {\n",
              "        vertical-align: top;\n",
              "    }\n",
              "\n",
              "    .dataframe thead th {\n",
              "        text-align: right;\n",
              "    }\n",
              "</style>\n",
              "<table border=\"1\" class=\"dataframe\">\n",
              "  <thead>\n",
              "    <tr style=\"text-align: right;\">\n",
              "      <th></th>\n",
              "      <th>customerID</th>\n",
              "      <th>gender</th>\n",
              "      <th>SeniorCitizen</th>\n",
              "      <th>Partner</th>\n",
              "      <th>Dependents</th>\n",
              "      <th>tenure</th>\n",
              "      <th>PhoneService</th>\n",
              "      <th>MultipleLines</th>\n",
              "      <th>InternetService</th>\n",
              "      <th>OnlineSecurity</th>\n",
              "      <th>OnlineBackup</th>\n",
              "      <th>DeviceProtection</th>\n",
              "      <th>TechSupport</th>\n",
              "      <th>StreamingTV</th>\n",
              "      <th>StreamingMovies</th>\n",
              "      <th>Contract</th>\n",
              "      <th>PaperlessBilling</th>\n",
              "      <th>PaymentMethod</th>\n",
              "      <th>MonthlyCharges</th>\n",
              "      <th>TotalCharges</th>\n",
              "      <th>Churn</th>\n",
              "    </tr>\n",
              "  </thead>\n",
              "  <tbody>\n",
              "    <tr>\n",
              "      <th>0</th>\n",
              "      <td>7590-VHVEG</td>\n",
              "      <td>Female</td>\n",
              "      <td>0</td>\n",
              "      <td>Yes</td>\n",
              "      <td>No</td>\n",
              "      <td>1</td>\n",
              "      <td>No</td>\n",
              "      <td>No phone service</td>\n",
              "      <td>DSL</td>\n",
              "      <td>No</td>\n",
              "      <td>Yes</td>\n",
              "      <td>No</td>\n",
              "      <td>No</td>\n",
              "      <td>No</td>\n",
              "      <td>No</td>\n",
              "      <td>Month-to-month</td>\n",
              "      <td>Yes</td>\n",
              "      <td>Electronic check</td>\n",
              "      <td>29.85</td>\n",
              "      <td>29.85</td>\n",
              "      <td>No</td>\n",
              "    </tr>\n",
              "    <tr>\n",
              "      <th>1</th>\n",
              "      <td>5575-GNVDE</td>\n",
              "      <td>Male</td>\n",
              "      <td>0</td>\n",
              "      <td>No</td>\n",
              "      <td>No</td>\n",
              "      <td>34</td>\n",
              "      <td>Yes</td>\n",
              "      <td>No</td>\n",
              "      <td>DSL</td>\n",
              "      <td>Yes</td>\n",
              "      <td>No</td>\n",
              "      <td>Yes</td>\n",
              "      <td>No</td>\n",
              "      <td>No</td>\n",
              "      <td>No</td>\n",
              "      <td>One year</td>\n",
              "      <td>No</td>\n",
              "      <td>Mailed check</td>\n",
              "      <td>56.95</td>\n",
              "      <td>1889.5</td>\n",
              "      <td>No</td>\n",
              "    </tr>\n",
              "    <tr>\n",
              "      <th>2</th>\n",
              "      <td>3668-QPYBK</td>\n",
              "      <td>Male</td>\n",
              "      <td>0</td>\n",
              "      <td>No</td>\n",
              "      <td>No</td>\n",
              "      <td>2</td>\n",
              "      <td>Yes</td>\n",
              "      <td>No</td>\n",
              "      <td>DSL</td>\n",
              "      <td>Yes</td>\n",
              "      <td>Yes</td>\n",
              "      <td>No</td>\n",
              "      <td>No</td>\n",
              "      <td>No</td>\n",
              "      <td>No</td>\n",
              "      <td>Month-to-month</td>\n",
              "      <td>Yes</td>\n",
              "      <td>Mailed check</td>\n",
              "      <td>53.85</td>\n",
              "      <td>108.15</td>\n",
              "      <td>Yes</td>\n",
              "    </tr>\n",
              "    <tr>\n",
              "      <th>3</th>\n",
              "      <td>7795-CFOCW</td>\n",
              "      <td>Male</td>\n",
              "      <td>0</td>\n",
              "      <td>No</td>\n",
              "      <td>No</td>\n",
              "      <td>45</td>\n",
              "      <td>No</td>\n",
              "      <td>No phone service</td>\n",
              "      <td>DSL</td>\n",
              "      <td>Yes</td>\n",
              "      <td>No</td>\n",
              "      <td>Yes</td>\n",
              "      <td>Yes</td>\n",
              "      <td>No</td>\n",
              "      <td>No</td>\n",
              "      <td>One year</td>\n",
              "      <td>No</td>\n",
              "      <td>Bank transfer (automatic)</td>\n",
              "      <td>42.30</td>\n",
              "      <td>1840.75</td>\n",
              "      <td>No</td>\n",
              "    </tr>\n",
              "    <tr>\n",
              "      <th>4</th>\n",
              "      <td>9237-HQITU</td>\n",
              "      <td>Female</td>\n",
              "      <td>0</td>\n",
              "      <td>No</td>\n",
              "      <td>No</td>\n",
              "      <td>2</td>\n",
              "      <td>Yes</td>\n",
              "      <td>No</td>\n",
              "      <td>Fiber optic</td>\n",
              "      <td>No</td>\n",
              "      <td>No</td>\n",
              "      <td>No</td>\n",
              "      <td>No</td>\n",
              "      <td>No</td>\n",
              "      <td>No</td>\n",
              "      <td>Month-to-month</td>\n",
              "      <td>Yes</td>\n",
              "      <td>Electronic check</td>\n",
              "      <td>70.70</td>\n",
              "      <td>151.65</td>\n",
              "      <td>Yes</td>\n",
              "    </tr>\n",
              "  </tbody>\n",
              "</table>\n",
              "</div>"
            ],
            "text/plain": [
              "   customerID  gender  SeniorCitizen  ... MonthlyCharges TotalCharges  Churn\n",
              "0  7590-VHVEG  Female              0  ...          29.85        29.85     No\n",
              "1  5575-GNVDE    Male              0  ...          56.95       1889.5     No\n",
              "2  3668-QPYBK    Male              0  ...          53.85       108.15    Yes\n",
              "3  7795-CFOCW    Male              0  ...          42.30      1840.75     No\n",
              "4  9237-HQITU  Female              0  ...          70.70       151.65    Yes\n",
              "\n",
              "[5 rows x 21 columns]"
            ]
          },
          "metadata": {},
          "execution_count": 371
        }
      ]
    },
    {
      "cell_type": "markdown",
      "metadata": {
        "id": "uuA1MtbWETsj"
      },
      "source": [
        "Em seguida verifiquei o volume de dados do nosso _dataframe_ e o tipo das nossas variáveis. Como podemos ver a maioria das variáveis estão no formato de string e precisarão passar por um tratamento."
      ]
    },
    {
      "cell_type": "code",
      "metadata": {
        "colab": {
          "base_uri": "https://localhost:8080/"
        },
        "id": "XpYhR2bqEC8y",
        "outputId": "64e9b4b9-d337-47cf-f986-976e93cadd74"
      },
      "source": [
        "#verificar volume de dados do dataframe\n",
        "print(\"Entradas:\\t\",df.shape[0])\n",
        "print(\"Variáveis\\t\",df.shape[1])\n",
        "\n",
        "#verificar tipo das variáveis\n",
        "df.dtypes"
      ],
      "execution_count": null,
      "outputs": [
        {
          "output_type": "stream",
          "name": "stdout",
          "text": [
            "Entradas:\t 7043\n",
            "Variáveis\t 21\n"
          ]
        },
        {
          "output_type": "execute_result",
          "data": {
            "text/plain": [
              "customerID           object\n",
              "gender               object\n",
              "SeniorCitizen         int64\n",
              "Partner              object\n",
              "Dependents           object\n",
              "tenure                int64\n",
              "PhoneService         object\n",
              "MultipleLines        object\n",
              "InternetService      object\n",
              "OnlineSecurity       object\n",
              "OnlineBackup         object\n",
              "DeviceProtection     object\n",
              "TechSupport          object\n",
              "StreamingTV          object\n",
              "StreamingMovies      object\n",
              "Contract             object\n",
              "PaperlessBilling     object\n",
              "PaymentMethod        object\n",
              "MonthlyCharges      float64\n",
              "TotalCharges         object\n",
              "Churn                object\n",
              "dtype: object"
            ]
          },
          "metadata": {},
          "execution_count": 372
        }
      ]
    },
    {
      "cell_type": "markdown",
      "metadata": {
        "id": "ii-uOjEzExEJ"
      },
      "source": [
        "A partir dessas informações montei um dicionário a fim de facilitar a análise do _dataset_.\n",
        "\n",
        "######**Dicionário das variáveis**\n",
        "\n",
        "* **`customerID`** - número de indentificação do cliente\n",
        "* **`gender`** - gênero do cliente\n",
        "* **`SeniorCitizen`** - classifica o cliente em idoso ou não \n",
        "    * 0 - cliente não é considerado idoso\n",
        "    * 1 - cliente é idoso\n",
        "* **`Partner`** - cliente possui um parceiro (sim ou não)\n",
        "* **`Dependents`** - o cliente tem dependentes (sim ou não)\n",
        "* **`tenure`** - tempo que o cliente permancece assinando o serviço\n",
        "* **`PhoneService`** - o cliente assina o serviço de telefone (sim ou não)\n",
        "* **`MultipleLines`** - o cliente possui múltiplas linhas (sim ou não)\n",
        "* **`InternetService`** - tipo de internet contratada\n",
        "* **`OnlineSecurity`** - o cliente assina segurança para a internet (sim ou não)\n",
        "* **`OnlineBackup`** - o cliente assina serviço online de backup (sim ou não)\n",
        "* **`DeviceProtection`** - cliente assina proteção para dispositivo internet (sim ou não)\n",
        "* **`TechSupport`** - cliente assina suporte técnico (sim ou não)\n",
        "* **`StreamingTV`** - cliente assina pacote de tv (sim ou não)\n",
        "* **`StreamingMovies`** - cliente assina pacote de filmes (sim ou não)\n",
        "* **`Contract`** - tipo de contrato\n",
        "* **`PaperlessBilling`** - cliente recebe a conta online (sim ou não)\n",
        "* **`PaymentMethod`** - tipo de pagamento\n",
        "* **`MonthlyCharges`** - custo por mês\n",
        "* **`TotalCharges`** - custo total\n",
        "* **`Churn`** - cliente deixou de usar os serviços (sim ou não)"
      ]
    },
    {
      "cell_type": "markdown",
      "metadata": {
        "id": "Hiz0Zs7JMQqa"
      },
      "source": [
        "### Valores Ausentes\n",
        "Verifiquei, então, o percentual dos valores nulos para entender se eram significativos em relação ao total de entradas. Como há variáveis do tipo string não conseguimos saber se esses percentuais são realistas, os dados terão que passar por um processo de limpeza para conseguirmos verificar essa informação com mais precisão."
      ]
    },
    {
      "cell_type": "code",
      "metadata": {
        "colab": {
          "base_uri": "https://localhost:8080/"
        },
        "id": "Rbr0vdS5EseI",
        "outputId": "bbb0dd4e-abbd-4709-d355-2a7768203d6d"
      },
      "source": [
        "(df.isnull().sum()/df.shape[0]).sort_values(ascending=False)[:5]"
      ],
      "execution_count": null,
      "outputs": [
        {
          "output_type": "execute_result",
          "data": {
            "text/plain": [
              "Churn             0.0\n",
              "OnlineSecurity    0.0\n",
              "gender            0.0\n",
              "SeniorCitizen     0.0\n",
              "Partner           0.0\n",
              "dtype: float64"
            ]
          },
          "metadata": {},
          "execution_count": 373
        }
      ]
    },
    {
      "cell_type": "markdown",
      "metadata": {
        "id": "jzMYZA_bRxeM"
      },
      "source": [
        "#### Preparação de `TotalCharges`\n",
        "Antes de começarmos a análise é importante ressaltar que a variável `TotalCharges` consta como string, quando deveria estar no formato float, como ocorre em `MonthlyCharges`. É preciso, portanto, convertê-la antes de prosseguirmos."
      ]
    },
    {
      "cell_type": "code",
      "metadata": {
        "id": "jcFT1MQzVpQH"
      },
      "source": [
        "#criar cópia do dataframe\n",
        "df_clean=df.copy()\n",
        "\n",
        "#converter string em float\n",
        "def converter_string_float(value):\n",
        "  try:\n",
        "    return float(value)\n",
        "  except ValueError:\n",
        "      return np.nan\n",
        "\n",
        "df_clean[\"TotalCharges\"] = df_clean[\"TotalCharges\"].apply(converter_string_float)"
      ],
      "execution_count": null,
      "outputs": []
    },
    {
      "cell_type": "code",
      "metadata": {
        "colab": {
          "base_uri": "https://localhost:8080/"
        },
        "id": "JhRpqNUoXdxs",
        "outputId": "d9062feb-4d1a-4712-955c-7317f0c7911d"
      },
      "source": [
        "#conferir tipo variável\n",
        "df_clean.TotalCharges.dtypes"
      ],
      "execution_count": null,
      "outputs": [
        {
          "output_type": "execute_result",
          "data": {
            "text/plain": [
              "dtype('float64')"
            ]
          },
          "metadata": {},
          "execution_count": 375
        }
      ]
    },
    {
      "cell_type": "markdown",
      "metadata": {
        "id": "tGgVFdvUYGWm"
      },
      "source": [
        "Agora que a variável está no formato correto podemos conferir o número de valores ausentes.\n",
        "\n",
        "É possível visualizarmos que a variável `TotalCharges` possui valores 11 ausentes e decidi preenchê-los com a mediana."
      ]
    },
    {
      "cell_type": "code",
      "metadata": {
        "colab": {
          "base_uri": "https://localhost:8080/"
        },
        "id": "Ji7NJTeXYNU1",
        "outputId": "fafb5894-7e30-4e6a-f0aa-e3cc352fa256"
      },
      "source": [
        "#verificar valores nulos\n",
        "df_clean.isnull().sum().sort_values(ascending=False)[:5]"
      ],
      "execution_count": null,
      "outputs": [
        {
          "output_type": "execute_result",
          "data": {
            "text/plain": [
              "TotalCharges      11\n",
              "Churn              0\n",
              "OnlineSecurity     0\n",
              "gender             0\n",
              "SeniorCitizen      0\n",
              "dtype: int64"
            ]
          },
          "metadata": {},
          "execution_count": 376
        }
      ]
    },
    {
      "cell_type": "code",
      "metadata": {
        "id": "8ZGqWs_iZf0w"
      },
      "source": [
        "#substituir valores nulos pela mediana\n",
        "TC_median=df_clean.TotalCharges.median()\n",
        "df_clean.fillna(TC_median,inplace=True)"
      ],
      "execution_count": null,
      "outputs": []
    },
    {
      "cell_type": "markdown",
      "metadata": {
        "id": "w_psCoj7cVON"
      },
      "source": [
        "### Distribuição das Variáveis\n",
        "Apesar da maioria das variáveis serem categóricas pela distribuição estatística já é possível verificar que não há indícios de _outliers_."
      ]
    },
    {
      "cell_type": "code",
      "metadata": {
        "colab": {
          "base_uri": "https://localhost:8080/",
          "height": 300
        },
        "id": "1ppY91r6T5E4",
        "outputId": "fdc0fdf9-475b-4eda-9268-8d20f1a99a7a"
      },
      "source": [
        "#plotar distriubuição estatística\n",
        "df_clean.describe()"
      ],
      "execution_count": null,
      "outputs": [
        {
          "output_type": "execute_result",
          "data": {
            "text/html": [
              "<div>\n",
              "<style scoped>\n",
              "    .dataframe tbody tr th:only-of-type {\n",
              "        vertical-align: middle;\n",
              "    }\n",
              "\n",
              "    .dataframe tbody tr th {\n",
              "        vertical-align: top;\n",
              "    }\n",
              "\n",
              "    .dataframe thead th {\n",
              "        text-align: right;\n",
              "    }\n",
              "</style>\n",
              "<table border=\"1\" class=\"dataframe\">\n",
              "  <thead>\n",
              "    <tr style=\"text-align: right;\">\n",
              "      <th></th>\n",
              "      <th>SeniorCitizen</th>\n",
              "      <th>tenure</th>\n",
              "      <th>MonthlyCharges</th>\n",
              "      <th>TotalCharges</th>\n",
              "    </tr>\n",
              "  </thead>\n",
              "  <tbody>\n",
              "    <tr>\n",
              "      <th>count</th>\n",
              "      <td>7043.000000</td>\n",
              "      <td>7043.000000</td>\n",
              "      <td>7043.000000</td>\n",
              "      <td>7043.000000</td>\n",
              "    </tr>\n",
              "    <tr>\n",
              "      <th>mean</th>\n",
              "      <td>0.162147</td>\n",
              "      <td>32.371149</td>\n",
              "      <td>64.761692</td>\n",
              "      <td>2281.916928</td>\n",
              "    </tr>\n",
              "    <tr>\n",
              "      <th>std</th>\n",
              "      <td>0.368612</td>\n",
              "      <td>24.559481</td>\n",
              "      <td>30.090047</td>\n",
              "      <td>2265.270398</td>\n",
              "    </tr>\n",
              "    <tr>\n",
              "      <th>min</th>\n",
              "      <td>0.000000</td>\n",
              "      <td>0.000000</td>\n",
              "      <td>18.250000</td>\n",
              "      <td>18.800000</td>\n",
              "    </tr>\n",
              "    <tr>\n",
              "      <th>25%</th>\n",
              "      <td>0.000000</td>\n",
              "      <td>9.000000</td>\n",
              "      <td>35.500000</td>\n",
              "      <td>402.225000</td>\n",
              "    </tr>\n",
              "    <tr>\n",
              "      <th>50%</th>\n",
              "      <td>0.000000</td>\n",
              "      <td>29.000000</td>\n",
              "      <td>70.350000</td>\n",
              "      <td>1397.475000</td>\n",
              "    </tr>\n",
              "    <tr>\n",
              "      <th>75%</th>\n",
              "      <td>0.000000</td>\n",
              "      <td>55.000000</td>\n",
              "      <td>89.850000</td>\n",
              "      <td>3786.600000</td>\n",
              "    </tr>\n",
              "    <tr>\n",
              "      <th>max</th>\n",
              "      <td>1.000000</td>\n",
              "      <td>72.000000</td>\n",
              "      <td>118.750000</td>\n",
              "      <td>8684.800000</td>\n",
              "    </tr>\n",
              "  </tbody>\n",
              "</table>\n",
              "</div>"
            ],
            "text/plain": [
              "       SeniorCitizen       tenure  MonthlyCharges  TotalCharges\n",
              "count    7043.000000  7043.000000     7043.000000   7043.000000\n",
              "mean        0.162147    32.371149       64.761692   2281.916928\n",
              "std         0.368612    24.559481       30.090047   2265.270398\n",
              "min         0.000000     0.000000       18.250000     18.800000\n",
              "25%         0.000000     9.000000       35.500000    402.225000\n",
              "50%         0.000000    29.000000       70.350000   1397.475000\n",
              "75%         0.000000    55.000000       89.850000   3786.600000\n",
              "max         1.000000    72.000000      118.750000   8684.800000"
            ]
          },
          "metadata": {},
          "execution_count": 378
        }
      ]
    },
    {
      "cell_type": "markdown",
      "metadata": {
        "id": "V-jLbjNgUH6Z"
      },
      "source": [
        "Analisei, então, o _boxplot_ das variáveis `MonthlyCharges` e `TotalCharges` para confirmarmos a ausência de _outliers_. E, como é possível visualizar, não há nenhum dado fora dos limites superior e inferior."
      ]
    },
    {
      "cell_type": "code",
      "metadata": {
        "colab": {
          "base_uri": "https://localhost:8080/",
          "height": 334
        },
        "id": "gXYErZxyUHWE",
        "outputId": "f271ba5a-1b6a-4960-b283-10568b1729c3"
      },
      "source": [
        "#plotar boxplot das variáveis em análise\n",
        "fig,ax=plt.subplots(nrows=1,ncols=2,figsize=(20,5))\n",
        "\n",
        "sns.boxplot(x=df_clean.MonthlyCharges,ax=ax[0])\n",
        "sns.boxplot(x=df_clean.TotalCharges,ax=ax[1])\n",
        "fig.show()"
      ],
      "execution_count": null,
      "outputs": [
        {
          "output_type": "display_data",
          "data": {
            "image/png": "[encoded data removed]",
            "text/plain": [
              "<Figure size 1440x360 with 2 Axes>"
            ]
          },
          "metadata": {
            "needs_background": "light"
          }
        }
      ]
    },
    {
      "cell_type": "markdown",
      "metadata": {
        "id": "8ApwXgEYbTKd"
      },
      "source": [
        "Em seguida, analisei a distribuição da variável `Tenure` que corresponde ao tempo que o cliente permanece assinando um serviço. Como não é informada a escala de tempo dessa medida, assumi que é avaliado em meses."
      ]
    },
    {
      "cell_type": "code",
      "metadata": {
        "colab": {
          "base_uri": "https://localhost:8080/",
          "height": 351
        },
        "id": "z96XmHHUUGpm",
        "outputId": "80a460cd-3fe6-467c-84d3-4f0bda16224e"
      },
      "source": [
        "#analisar distribuição tenure\n",
        "fig,ax=plt.subplots(figsize=(15,5))\n",
        "\n",
        "sns.countplot(x=df_clean['tenure'])"
      ],
      "execution_count": null,
      "outputs": [
        {
          "output_type": "execute_result",
          "data": {
            "text/plain": [
              "<matplotlib.axes._subplots.AxesSubplot at 0x7f19eeb899d0>"
            ]
          },
          "metadata": {},
          "execution_count": 380
        },
        {
          "output_type": "display_data",
          "data": {
            "image/png": "[encoded data removed]",
            "text/plain": [
              "<Figure size 1080x360 with 1 Axes>"
            ]
          },
          "metadata": {
            "needs_background": "light"
          }
        }
      ]
    },
    {
      "cell_type": "markdown",
      "metadata": {
        "id": "bLS4IIiNkfwl"
      },
      "source": [
        "Quando se tratam de variáveis categóricas é uma boa prática verificar as entradas únicas no intuito de validar se há mais de um _label_ indicando a mesma coisa. Porém, antes disso, como vimos a variável `customerID`, referente ao número de identificação do cliente, não agrega na nossa análise. Portanto, vou retirá-la pois pode atrapalhar a nossa verificação de valores únicos."
      ]
    },
    {
      "cell_type": "code",
      "metadata": {
        "id": "DZm88rrlkfdO"
      },
      "source": [
        "#retirar a variável customerId\n",
        "df_clean.drop('customerID',axis=1,inplace=True)"
      ],
      "execution_count": null,
      "outputs": []
    },
    {
      "cell_type": "markdown",
      "metadata": {
        "id": "kPbLZnJhljMO"
      },
      "source": [
        "Com a base de dados 'limpa' verifiquei as entradas únicas do nosso _dataset_. Como podemos verificar abaixo há ocorrência de entradas de tipo de pagamento, periodicidade, de gênero e tipo de serviço contratado.\n",
        "\n",
        "Para fins de análise considerei que:\n",
        "* Entradas como `No`, `No internet service` e `No phone service` representam a mesma coisa, portanto, podemos substituí-las apenas por `No` conforme demais entradas.\n",
        "* Vamos verificar o balanceamento de `Female` e `Male` para verificar se há algum tipo de viés nos nossos dados que possam enviesar, de algum modo, a nossa análise.\n",
        "* As demais entradas únicas não prejudicam a nossa análise e não precisamos alterá-las."
      ]
    },
    {
      "cell_type": "code",
      "metadata": {
        "colab": {
          "base_uri": "https://localhost:8080/"
        },
        "id": "f2sEjX6hsOHB",
        "outputId": "2cd9ad4d-f7b3-4bd5-b4c3-43a8946801a1"
      },
      "source": [
        "# verificar valores únicos das variáveis categóricas\n",
        "np.unique(df_clean.select_dtypes('object').values)"
      ],
      "execution_count": null,
      "outputs": [
        {
          "output_type": "execute_result",
          "data": {
            "text/plain": [
              "array(['Bank transfer (automatic)', 'Credit card (automatic)', 'DSL',\n",
              "       'Electronic check', 'Female', 'Fiber optic', 'Mailed check',\n",
              "       'Male', 'Month-to-month', 'No', 'No internet service',\n",
              "       'No phone service', 'One year', 'Two year', 'Yes'], dtype=object)"
            ]
          },
          "metadata": {},
          "execution_count": 382
        }
      ]
    },
    {
      "cell_type": "markdown",
      "metadata": {
        "id": "R1gvIKqawHwN"
      },
      "source": [
        "Em seguida, verifiquei o balanceamento dos dados segundo o gênero e, como podemos observar abaixo eles já se encontram balanceados."
      ]
    },
    {
      "cell_type": "code",
      "metadata": {
        "colab": {
          "base_uri": "https://localhost:8080/",
          "height": 279
        },
        "id": "9_4QXNKIoJPp",
        "outputId": "ada225b4-3d36-47c8-9b20-44d11038b9e5"
      },
      "source": [
        "sns.countplot(x=df_clean.gender);"
      ],
      "execution_count": null,
      "outputs": [
        {
          "output_type": "display_data",
          "data": {
            "image/png": "[encoded data removed]",
            "text/plain": [
              "<Figure size 432x288 with 1 Axes>"
            ]
          },
          "metadata": {
            "needs_background": "light"
          }
        }
      ]
    },
    {
      "cell_type": "markdown",
      "metadata": {
        "id": "IyWSmcDSwlya"
      },
      "source": [
        "### Balanceamento dos dados\n",
        "Depois, analisei o balanceamento dos dados e verifiquei que **77%** da base de dados é representada por **clientes normais**, o que já era esperado. Os **clientes desistentes**, por sua vez, representam apenas **22%**.\n",
        "\n",
        "Para tornar a discrepância mais visual plotei um gráfico de Distribuição do Churn para evidenciar a dominância dos clientes considerados normais representadas pela barra azul sobre os clientes desistentes, barra laranja. Como os dados estão desbalanceados será necessária uma etapa de balanceamento de modo a otimizar o desempenho do modelo."
      ]
    },
    {
      "cell_type": "code",
      "metadata": {
        "colab": {
          "base_uri": "https://localhost:8080/",
          "height": 383
        },
        "id": "LTYcXecgwk56",
        "outputId": "9682b996-60f8-47e0-de57-d5e1d8cadc22"
      },
      "source": [
        "#verificar balanceamento dos dados\n",
        "sns.countplot(x=df_clean.Churn)\n",
        "\n",
        "#verificar percentual de churn corresponde a cada classe\n",
        "print('\\n\\nClientes normais:\\t',df_clean[df_clean.Churn=='No'].shape[0]/df_clean.shape[0] * 100)\n",
        "print('Clientes desistentes:\\t',df_clean[df_clean.Churn=='Yes'].shape[0]/df_clean.shape[0] * 100)\n",
        "print('\\n')\n"
      ],
      "execution_count": null,
      "outputs": [
        {
          "output_type": "stream",
          "name": "stdout",
          "text": [
            "\n",
            "\n",
            "Clientes normais:\t 73.4630129206304\n",
            "Clientes desistentes:\t 26.536987079369588\n",
            "\n",
            "\n"
          ]
        },
        {
          "output_type": "display_data",
          "data": {
            "image/png": "[encoded data removed]",
            "text/plain": [
              "<Figure size 432x288 with 1 Axes>"
            ]
          },
          "metadata": {
            "needs_background": "light"
          }
        }
      ]
    },
    {
      "cell_type": "markdown",
      "metadata": {
        "id": "uC1bGJo403ic"
      },
      "source": [
        "Resumindo, algumas conclusões que foram extraídas dessa etapa exploratória foram:\n",
        "\n",
        "* O dataset está muito desbalanceado, uma vez que os clientes desistentes representam apenas 22% das entradas\n",
        "* Pela distribuição estatística e boxplot foi possível confirmar que não há a presença de outliers nas variáveis `MonthlyCharges` e `TotalCharges`\n",
        "* Entradas como `No`, `No internet service` e `No phone service` representam a mesma coisa, portanto, podemos substituí-las apenas por `No` conforme demais entradas"
      ]
    },
    {
      "cell_type": "markdown",
      "metadata": {
        "id": "xaTeNoYv1y1t"
      },
      "source": [
        "## Preparação dos Dados\n",
        "\n",
        "A partir das conclusões da etapa exploratória, resolvi observar os seguintes tópicos para preparar os dados:\n",
        "\n",
        "* Substituir as entradas `No internet service` e `No phone service` por `No`\n",
        "* Decodificar as variáveis binárias e categóricas"
      ]
    },
    {
      "cell_type": "markdown",
      "metadata": {
        "id": "uFtslrA_LxsD"
      },
      "source": [
        "Para dar início à preparação dos dados, comecei substituindo as entradas `No internet service` e `No phone service` por `No`"
      ]
    },
    {
      "cell_type": "code",
      "metadata": {
        "id": "cYgtu-Fa1yll",
        "colab": {
          "base_uri": "https://localhost:8080/",
          "height": 296
        },
        "outputId": "93ea7317-e95a-48da-d5fd-1112dfe7a25e"
      },
      "source": [
        "#substituir variáveis destacadas por label 'No'\n",
        "df_clean.MultipleLines.replace('No phone service','No',inplace=True)\n",
        "df_clean.OnlineSecurity.replace('No internet service','No',inplace=True)\n",
        "df_clean.OnlineBackup.replace('No internet service','No',inplace=True)\n",
        "df_clean.DeviceProtection.replace('No internet service','No',inplace=True)\n",
        "df_clean.TechSupport.replace('No internet service','No',inplace=True)\n",
        "df_clean.StreamingTV.replace('No internet service','No',inplace=True)\n",
        "df_clean.StreamingMovies.replace('No internet service','No',inplace=True)\n",
        "\n",
        "#conferir cinco primeiras entradas\n",
        "df_clean[:5]"
      ],
      "execution_count": null,
      "outputs": [
        {
          "output_type": "execute_result",
          "data": {
            "text/html": [
              "<div>\n",
              "<style scoped>\n",
              "    .dataframe tbody tr th:only-of-type {\n",
              "        vertical-align: middle;\n",
              "    }\n",
              "\n",
              "    .dataframe tbody tr th {\n",
              "        vertical-align: top;\n",
              "    }\n",
              "\n",
              "    .dataframe thead th {\n",
              "        text-align: right;\n",
              "    }\n",
              "</style>\n",
              "<table border=\"1\" class=\"dataframe\">\n",
              "  <thead>\n",
              "    <tr style=\"text-align: right;\">\n",
              "      <th></th>\n",
              "      <th>gender</th>\n",
              "      <th>SeniorCitizen</th>\n",
              "      <th>Partner</th>\n",
              "      <th>Dependents</th>\n",
              "      <th>tenure</th>\n",
              "      <th>PhoneService</th>\n",
              "      <th>MultipleLines</th>\n",
              "      <th>InternetService</th>\n",
              "      <th>OnlineSecurity</th>\n",
              "      <th>OnlineBackup</th>\n",
              "      <th>DeviceProtection</th>\n",
              "      <th>TechSupport</th>\n",
              "      <th>StreamingTV</th>\n",
              "      <th>StreamingMovies</th>\n",
              "      <th>Contract</th>\n",
              "      <th>PaperlessBilling</th>\n",
              "      <th>PaymentMethod</th>\n",
              "      <th>MonthlyCharges</th>\n",
              "      <th>TotalCharges</th>\n",
              "      <th>Churn</th>\n",
              "    </tr>\n",
              "  </thead>\n",
              "  <tbody>\n",
              "    <tr>\n",
              "      <th>0</th>\n",
              "      <td>Female</td>\n",
              "      <td>0</td>\n",
              "      <td>Yes</td>\n",
              "      <td>No</td>\n",
              "      <td>1</td>\n",
              "      <td>No</td>\n",
              "      <td>No</td>\n",
              "      <td>DSL</td>\n",
              "      <td>No</td>\n",
              "      <td>Yes</td>\n",
              "      <td>No</td>\n",
              "      <td>No</td>\n",
              "      <td>No</td>\n",
              "      <td>No</td>\n",
              "      <td>Month-to-month</td>\n",
              "      <td>Yes</td>\n",
              "      <td>Electronic check</td>\n",
              "      <td>29.85</td>\n",
              "      <td>29.85</td>\n",
              "      <td>No</td>\n",
              "    </tr>\n",
              "    <tr>\n",
              "      <th>1</th>\n",
              "      <td>Male</td>\n",
              "      <td>0</td>\n",
              "      <td>No</td>\n",
              "      <td>No</td>\n",
              "      <td>34</td>\n",
              "      <td>Yes</td>\n",
              "      <td>No</td>\n",
              "      <td>DSL</td>\n",
              "      <td>Yes</td>\n",
              "      <td>No</td>\n",
              "      <td>Yes</td>\n",
              "      <td>No</td>\n",
              "      <td>No</td>\n",
              "      <td>No</td>\n",
              "      <td>One year</td>\n",
              "      <td>No</td>\n",
              "      <td>Mailed check</td>\n",
              "      <td>56.95</td>\n",
              "      <td>1889.50</td>\n",
              "      <td>No</td>\n",
              "    </tr>\n",
              "    <tr>\n",
              "      <th>2</th>\n",
              "      <td>Male</td>\n",
              "      <td>0</td>\n",
              "      <td>No</td>\n",
              "      <td>No</td>\n",
              "      <td>2</td>\n",
              "      <td>Yes</td>\n",
              "      <td>No</td>\n",
              "      <td>DSL</td>\n",
              "      <td>Yes</td>\n",
              "      <td>Yes</td>\n",
              "      <td>No</td>\n",
              "      <td>No</td>\n",
              "      <td>No</td>\n",
              "      <td>No</td>\n",
              "      <td>Month-to-month</td>\n",
              "      <td>Yes</td>\n",
              "      <td>Mailed check</td>\n",
              "      <td>53.85</td>\n",
              "      <td>108.15</td>\n",
              "      <td>Yes</td>\n",
              "    </tr>\n",
              "    <tr>\n",
              "      <th>3</th>\n",
              "      <td>Male</td>\n",
              "      <td>0</td>\n",
              "      <td>No</td>\n",
              "      <td>No</td>\n",
              "      <td>45</td>\n",
              "      <td>No</td>\n",
              "      <td>No</td>\n",
              "      <td>DSL</td>\n",
              "      <td>Yes</td>\n",
              "      <td>No</td>\n",
              "      <td>Yes</td>\n",
              "      <td>Yes</td>\n",
              "      <td>No</td>\n",
              "      <td>No</td>\n",
              "      <td>One year</td>\n",
              "      <td>No</td>\n",
              "      <td>Bank transfer (automatic)</td>\n",
              "      <td>42.30</td>\n",
              "      <td>1840.75</td>\n",
              "      <td>No</td>\n",
              "    </tr>\n",
              "    <tr>\n",
              "      <th>4</th>\n",
              "      <td>Female</td>\n",
              "      <td>0</td>\n",
              "      <td>No</td>\n",
              "      <td>No</td>\n",
              "      <td>2</td>\n",
              "      <td>Yes</td>\n",
              "      <td>No</td>\n",
              "      <td>Fiber optic</td>\n",
              "      <td>No</td>\n",
              "      <td>No</td>\n",
              "      <td>No</td>\n",
              "      <td>No</td>\n",
              "      <td>No</td>\n",
              "      <td>No</td>\n",
              "      <td>Month-to-month</td>\n",
              "      <td>Yes</td>\n",
              "      <td>Electronic check</td>\n",
              "      <td>70.70</td>\n",
              "      <td>151.65</td>\n",
              "      <td>Yes</td>\n",
              "    </tr>\n",
              "  </tbody>\n",
              "</table>\n",
              "</div>"
            ],
            "text/plain": [
              "   gender  SeniorCitizen Partner  ... MonthlyCharges  TotalCharges Churn\n",
              "0  Female              0     Yes  ...          29.85         29.85    No\n",
              "1    Male              0      No  ...          56.95       1889.50    No\n",
              "2    Male              0      No  ...          53.85        108.15   Yes\n",
              "3    Male              0      No  ...          42.30       1840.75    No\n",
              "4  Female              0      No  ...          70.70        151.65   Yes\n",
              "\n",
              "[5 rows x 20 columns]"
            ]
          },
          "metadata": {},
          "execution_count": 385
        }
      ]
    },
    {
      "cell_type": "markdown",
      "metadata": {
        "id": "d169mQgULzt1"
      },
      "source": [
        "Após isso, para conseguir decodificar as variáveis categóricas separei as _features_ em três grupos:\n",
        "  * Variáveis binárias\n",
        "  * Variáveis numéricas\n",
        "  * Variáveis categóricas\n",
        "\n",
        "De acordo com as classificações das variáveis, apliquei os decodificadores aos grupos das variáveis binárias e categóricas."
      ]
    },
    {
      "cell_type": "code",
      "metadata": {
        "id": "W5th_VQF3Vro"
      },
      "source": [
        "#pré processar as variáveis\n",
        "binary_var = df_clean.nunique()[df_clean.nunique() == 2].keys().tolist()\n",
        "num_var = [col for col in df_clean.select_dtypes(['int', 'float']).columns.tolist() if col not in binary_var]\n",
        "cat_var = [col for col in df_clean.columns.tolist() if col not in binary_var + num_var]"
      ],
      "execution_count": null,
      "outputs": []
    },
    {
      "cell_type": "markdown",
      "metadata": {
        "id": "ZOVXR7FbPmhv"
      },
      "source": [
        "Para as variáveis binárias utilizei o método do LabelEncoder"
      ]
    },
    {
      "cell_type": "code",
      "metadata": {
        "id": "NUV4uQtPPlmh"
      },
      "source": [
        "#importar pacotes necessários\n",
        "from sklearn.preprocessing import LabelEncoder\n",
        "\n",
        "#fazer uma cópia do dataset\n",
        "df_proc=df_clean.copy()\n",
        "\n",
        "#decodificar variáveis binárias\n",
        "le = LabelEncoder()\n",
        "for i in binary_var:\n",
        "    df_proc[i] = le.fit_transform(df_proc[i])"
      ],
      "execution_count": null,
      "outputs": []
    },
    {
      "cell_type": "markdown",
      "metadata": {
        "id": "pnyiL1cNU_42"
      },
      "source": [
        "Para as variáveis categóricas que possuem múltiplas classes utilizei o método Get Dummies que elimina a hierarquia da ordem, que no caso do nosso _dataset_ não representa uma escala de importância."
      ]
    },
    {
      "cell_type": "code",
      "metadata": {
        "colab": {
          "base_uri": "https://localhost:8080/",
          "height": 261
        },
        "id": "t9tBfvjfWFCq",
        "outputId": "696c86f1-d518-4afb-c5e6-fc5eb0a9d922"
      },
      "source": [
        "#decodificar variáveis categóricas\n",
        "df_proc=pd.get_dummies(df_proc,columns=cat_var)\n",
        "\n",
        "df_proc.head()"
      ],
      "execution_count": null,
      "outputs": [
        {
          "output_type": "execute_result",
          "data": {
            "text/html": [
              "<div>\n",
              "<style scoped>\n",
              "    .dataframe tbody tr th:only-of-type {\n",
              "        vertical-align: middle;\n",
              "    }\n",
              "\n",
              "    .dataframe tbody tr th {\n",
              "        vertical-align: top;\n",
              "    }\n",
              "\n",
              "    .dataframe thead th {\n",
              "        text-align: right;\n",
              "    }\n",
              "</style>\n",
              "<table border=\"1\" class=\"dataframe\">\n",
              "  <thead>\n",
              "    <tr style=\"text-align: right;\">\n",
              "      <th></th>\n",
              "      <th>gender</th>\n",
              "      <th>SeniorCitizen</th>\n",
              "      <th>Partner</th>\n",
              "      <th>Dependents</th>\n",
              "      <th>tenure</th>\n",
              "      <th>PhoneService</th>\n",
              "      <th>MultipleLines</th>\n",
              "      <th>OnlineSecurity</th>\n",
              "      <th>OnlineBackup</th>\n",
              "      <th>DeviceProtection</th>\n",
              "      <th>TechSupport</th>\n",
              "      <th>StreamingTV</th>\n",
              "      <th>StreamingMovies</th>\n",
              "      <th>PaperlessBilling</th>\n",
              "      <th>MonthlyCharges</th>\n",
              "      <th>TotalCharges</th>\n",
              "      <th>Churn</th>\n",
              "      <th>InternetService_DSL</th>\n",
              "      <th>InternetService_Fiber optic</th>\n",
              "      <th>InternetService_No</th>\n",
              "      <th>Contract_Month-to-month</th>\n",
              "      <th>Contract_One year</th>\n",
              "      <th>Contract_Two year</th>\n",
              "      <th>PaymentMethod_Bank transfer (automatic)</th>\n",
              "      <th>PaymentMethod_Credit card (automatic)</th>\n",
              "      <th>PaymentMethod_Electronic check</th>\n",
              "      <th>PaymentMethod_Mailed check</th>\n",
              "    </tr>\n",
              "  </thead>\n",
              "  <tbody>\n",
              "    <tr>\n",
              "      <th>0</th>\n",
              "      <td>0</td>\n",
              "      <td>0</td>\n",
              "      <td>1</td>\n",
              "      <td>0</td>\n",
              "      <td>1</td>\n",
              "      <td>0</td>\n",
              "      <td>0</td>\n",
              "      <td>0</td>\n",
              "      <td>1</td>\n",
              "      <td>0</td>\n",
              "      <td>0</td>\n",
              "      <td>0</td>\n",
              "      <td>0</td>\n",
              "      <td>1</td>\n",
              "      <td>29.85</td>\n",
              "      <td>29.85</td>\n",
              "      <td>0</td>\n",
              "      <td>1</td>\n",
              "      <td>0</td>\n",
              "      <td>0</td>\n",
              "      <td>1</td>\n",
              "      <td>0</td>\n",
              "      <td>0</td>\n",
              "      <td>0</td>\n",
              "      <td>0</td>\n",
              "      <td>1</td>\n",
              "      <td>0</td>\n",
              "    </tr>\n",
              "    <tr>\n",
              "      <th>1</th>\n",
              "      <td>1</td>\n",
              "      <td>0</td>\n",
              "      <td>0</td>\n",
              "      <td>0</td>\n",
              "      <td>34</td>\n",
              "      <td>1</td>\n",
              "      <td>0</td>\n",
              "      <td>1</td>\n",
              "      <td>0</td>\n",
              "      <td>1</td>\n",
              "      <td>0</td>\n",
              "      <td>0</td>\n",
              "      <td>0</td>\n",
              "      <td>0</td>\n",
              "      <td>56.95</td>\n",
              "      <td>1889.50</td>\n",
              "      <td>0</td>\n",
              "      <td>1</td>\n",
              "      <td>0</td>\n",
              "      <td>0</td>\n",
              "      <td>0</td>\n",
              "      <td>1</td>\n",
              "      <td>0</td>\n",
              "      <td>0</td>\n",
              "      <td>0</td>\n",
              "      <td>0</td>\n",
              "      <td>1</td>\n",
              "    </tr>\n",
              "    <tr>\n",
              "      <th>2</th>\n",
              "      <td>1</td>\n",
              "      <td>0</td>\n",
              "      <td>0</td>\n",
              "      <td>0</td>\n",
              "      <td>2</td>\n",
              "      <td>1</td>\n",
              "      <td>0</td>\n",
              "      <td>1</td>\n",
              "      <td>1</td>\n",
              "      <td>0</td>\n",
              "      <td>0</td>\n",
              "      <td>0</td>\n",
              "      <td>0</td>\n",
              "      <td>1</td>\n",
              "      <td>53.85</td>\n",
              "      <td>108.15</td>\n",
              "      <td>1</td>\n",
              "      <td>1</td>\n",
              "      <td>0</td>\n",
              "      <td>0</td>\n",
              "      <td>1</td>\n",
              "      <td>0</td>\n",
              "      <td>0</td>\n",
              "      <td>0</td>\n",
              "      <td>0</td>\n",
              "      <td>0</td>\n",
              "      <td>1</td>\n",
              "    </tr>\n",
              "    <tr>\n",
              "      <th>3</th>\n",
              "      <td>1</td>\n",
              "      <td>0</td>\n",
              "      <td>0</td>\n",
              "      <td>0</td>\n",
              "      <td>45</td>\n",
              "      <td>0</td>\n",
              "      <td>0</td>\n",
              "      <td>1</td>\n",
              "      <td>0</td>\n",
              "      <td>1</td>\n",
              "      <td>1</td>\n",
              "      <td>0</td>\n",
              "      <td>0</td>\n",
              "      <td>0</td>\n",
              "      <td>42.30</td>\n",
              "      <td>1840.75</td>\n",
              "      <td>0</td>\n",
              "      <td>1</td>\n",
              "      <td>0</td>\n",
              "      <td>0</td>\n",
              "      <td>0</td>\n",
              "      <td>1</td>\n",
              "      <td>0</td>\n",
              "      <td>1</td>\n",
              "      <td>0</td>\n",
              "      <td>0</td>\n",
              "      <td>0</td>\n",
              "    </tr>\n",
              "    <tr>\n",
              "      <th>4</th>\n",
              "      <td>0</td>\n",
              "      <td>0</td>\n",
              "      <td>0</td>\n",
              "      <td>0</td>\n",
              "      <td>2</td>\n",
              "      <td>1</td>\n",
              "      <td>0</td>\n",
              "      <td>0</td>\n",
              "      <td>0</td>\n",
              "      <td>0</td>\n",
              "      <td>0</td>\n",
              "      <td>0</td>\n",
              "      <td>0</td>\n",
              "      <td>1</td>\n",
              "      <td>70.70</td>\n",
              "      <td>151.65</td>\n",
              "      <td>1</td>\n",
              "      <td>0</td>\n",
              "      <td>1</td>\n",
              "      <td>0</td>\n",
              "      <td>1</td>\n",
              "      <td>0</td>\n",
              "      <td>0</td>\n",
              "      <td>0</td>\n",
              "      <td>0</td>\n",
              "      <td>1</td>\n",
              "      <td>0</td>\n",
              "    </tr>\n",
              "  </tbody>\n",
              "</table>\n",
              "</div>"
            ],
            "text/plain": [
              "   gender  ...  PaymentMethod_Mailed check\n",
              "0       0  ...                           0\n",
              "1       1  ...                           1\n",
              "2       1  ...                           1\n",
              "3       1  ...                           0\n",
              "4       0  ...                           0\n",
              "\n",
              "[5 rows x 27 columns]"
            ]
          },
          "metadata": {},
          "execution_count": 388
        }
      ]
    },
    {
      "cell_type": "markdown",
      "metadata": {
        "id": "qNvUPMlXtiO0"
      },
      "source": [
        "## Modelo de Machine Learning\n",
        "\n",
        "Após a etapa de preparação dos dados, devemos nos atentar aos seguintes tópicos para a construção do nosso Modelo de Machine Learning:\n",
        "* dividir os dados entre treino e teste\n",
        "* definir melhor métrica para avaliar modelo\n",
        "* cross validation - avaliar modelo com melhor desempenho de acordo com métrica escolhida\n",
        "* padronização dos dados\n",
        "* balanceamento dos dados\n",
        "* grid search - identificar os melhores parâmetros para o modelo ML"
      ]
    },
    {
      "cell_type": "code",
      "metadata": {
        "id": "7n1F1pjFts1c"
      },
      "source": [
        "#separar as variáveis X e y\n",
        "X=df_proc.drop('Churn',axis=1)\n",
        "y=df_proc.Churn\n",
        "\n",
        "#dividir dados entre treino e teste\n",
        "from sklearn.model_selection import train_test_split\n",
        "X_train,X_test,y_train,y_test=train_test_split(X,y,stratify=y,shuffle=True)"
      ],
      "execution_count": null,
      "outputs": []
    },
    {
      "cell_type": "markdown",
      "metadata": {
        "id": "shLEGf-3-7ta"
      },
      "source": [
        "Agora com os dados separados entre treino e teste, devemos escolher qual será a melhor métrica para avaliarmos nosso modelo.\n",
        "\n",
        "* Analisando o contexto do nosso problema, o pior erro seria não identificar um cliente 'desistente'. Portanto, iremos utilizar a métrica do Recall que avalia o percentual de acerto que o modelo identificou que um cliente desistente iria de fato cancelar os serviços.\n",
        "* Neste projeto a precisão não é tão relevante pois caso o modelo identifique como desistente um cliente 'normal', a operadora provavelmente irá mandar apenas um e-mail com promoções ou entrar em contato oferecendo melhores condições.\n",
        "\n",
        "Com a métrica definida iremos utilizar o Cross Validation para estimar o erro do modelo."
      ]
    },
    {
      "cell_type": "code",
      "metadata": {
        "id": "xGikLnvz3HIG"
      },
      "source": [
        "#definir função de cross validation\n",
        "def val_model(X, y, clf, quite=False):\n",
        "    X = np.array(X)\n",
        "    y = np.array(y)\n",
        "\n",
        "    pipeline = make_pipeline(StandardScaler(), clf)\n",
        "    scores = cross_val_score(pipeline, X, y, scoring='recall')\n",
        "\n",
        "    if quite == False:\n",
        "        print(\"Recall: {:.2f} (+/- {:.2f})\".format(scores.mean(), scores.std()))\n",
        "    \n",
        "    return scores.mean()"
      ],
      "execution_count": null,
      "outputs": []
    },
    {
      "cell_type": "markdown",
      "metadata": {
        "id": "EZsNSNbRNl1Q"
      },
      "source": [
        "Para a baseline utilizei o modelo de RandomForestClassifier e obtivemos um score de 0.48 de recall."
      ]
    },
    {
      "cell_type": "code",
      "metadata": {
        "colab": {
          "base_uri": "https://localhost:8080/"
        },
        "id": "xKoEKZBlL1_0",
        "outputId": "569d31a8-b7aa-4e11-907f-ed2e2fcd6c86"
      },
      "source": [
        "# criar baseline e ver desempenho\n",
        "rf = RandomForestClassifier()\n",
        "score_baseline = val_model(X_train, y_train, rf)"
      ],
      "execution_count": null,
      "outputs": [
        {
          "output_type": "stream",
          "name": "stdout",
          "text": [
            "Recall: 0.48 (+/- 0.02)\n"
          ]
        }
      ]
    },
    {
      "cell_type": "markdown",
      "metadata": {
        "id": "Q4xs3xJS3Ex5"
      },
      "source": [
        "Antes de identificarmos o melhor modelo a ser utilizado na nossa análise, devemos balancear e padronizar os dados para evitar análises enviesadas. Para balancear os dados utilizei o método de RandomUnderSampler que retira amostras aleatórias da classe majoritária (clientes normais) sem prejudicar a classe minoritária (clientes desistentes)."
      ]
    },
    {
      "cell_type": "code",
      "metadata": {
        "id": "lL_rv9PgDUMp"
      },
      "source": [
        "# padronizar os  dados\n",
        "from sklearn.preprocessing import StandardScaler\n",
        "from imblearn.under_sampling import RandomUnderSampler\n",
        "\n",
        "scaler = StandardScaler()\n",
        "X_train =scaler.fit_transform(X_train)\n",
        "\n",
        "#balancear os dados\n",
        "rus = RandomUnderSampler()\n",
        "X_train_rus, y_train_rus = rus.fit_resample(X_train, y_train)"
      ],
      "execution_count": null,
      "outputs": []
    },
    {
      "cell_type": "markdown",
      "metadata": {
        "id": "PN3CaaXJtCoR"
      },
      "source": [
        "Agora com os dados tratados devemos analisar os desempenhos dos modelos para identificar qual iremos desenvolver. Para isso, utilizei a validação cruzada com o intuito de analisar qual modelo possui a melhor performance baseado na métrica de Recall."
      ]
    },
    {
      "cell_type": "code",
      "metadata": {
        "colab": {
          "base_uri": "https://localhost:8080/",
          "height": 269
        },
        "id": "IKSuvPndGZyg",
        "outputId": "fe1c709a-db40-465d-ea2c-3537c9f4ee68"
      },
      "source": [
        "# instanciar modelos\n",
        "rf = RandomForestClassifier()\n",
        "dt = DecisionTreeClassifier()\n",
        "sgdc = SGDClassifier()\n",
        "svc = SVC()\n",
        "lr = LogisticRegression()\n",
        "xgb = XGBClassifier()\n",
        "lgbm = LGBMClassifier()\n",
        "\n",
        "model = []\n",
        "recall = []\n",
        "\n",
        "#avaliar o desempenho do modelo\n",
        "\n",
        "for clf in (rf,dt,sgdc,svc,lr,xgb,lgbm):\n",
        "  model.append(clf.__class__.__name__)\n",
        "  recall.append(val_model(X_train_rus,y_train_rus,clf,quite=True))\n",
        "\n",
        "pd.DataFrame(data=recall,index=model,columns=['Recall'])"
      ],
      "execution_count": null,
      "outputs": [
        {
          "output_type": "execute_result",
          "data": {
            "text/html": [
              "<div>\n",
              "<style scoped>\n",
              "    .dataframe tbody tr th:only-of-type {\n",
              "        vertical-align: middle;\n",
              "    }\n",
              "\n",
              "    .dataframe tbody tr th {\n",
              "        vertical-align: top;\n",
              "    }\n",
              "\n",
              "    .dataframe thead th {\n",
              "        text-align: right;\n",
              "    }\n",
              "</style>\n",
              "<table border=\"1\" class=\"dataframe\">\n",
              "  <thead>\n",
              "    <tr style=\"text-align: right;\">\n",
              "      <th></th>\n",
              "      <th>Recall</th>\n",
              "    </tr>\n",
              "  </thead>\n",
              "  <tbody>\n",
              "    <tr>\n",
              "      <th>RandomForestClassifier</th>\n",
              "      <td>0.760353</td>\n",
              "    </tr>\n",
              "    <tr>\n",
              "      <th>DecisionTreeClassifier</th>\n",
              "      <td>0.691164</td>\n",
              "    </tr>\n",
              "    <tr>\n",
              "      <th>SGDClassifier</th>\n",
              "      <td>0.685391</td>\n",
              "    </tr>\n",
              "    <tr>\n",
              "      <th>SVC</th>\n",
              "      <td>0.796734</td>\n",
              "    </tr>\n",
              "    <tr>\n",
              "      <th>LogisticRegression</th>\n",
              "      <td>0.787453</td>\n",
              "    </tr>\n",
              "    <tr>\n",
              "      <th>XGBClassifier</th>\n",
              "      <td>0.800300</td>\n",
              "    </tr>\n",
              "    <tr>\n",
              "      <th>LGBMClassifier</th>\n",
              "      <td>0.770341</td>\n",
              "    </tr>\n",
              "  </tbody>\n",
              "</table>\n",
              "</div>"
            ],
            "text/plain": [
              "                          Recall\n",
              "RandomForestClassifier  0.760353\n",
              "DecisionTreeClassifier  0.691164\n",
              "SGDClassifier           0.685391\n",
              "SVC                     0.796734\n",
              "LogisticRegression      0.787453\n",
              "XGBClassifier           0.800300\n",
              "LGBMClassifier          0.770341"
            ]
          },
          "metadata": {},
          "execution_count": 393
        }
      ]
    },
    {
      "cell_type": "markdown",
      "metadata": {
        "id": "ax1nN5jkZzPk"
      },
      "source": [
        "Com base na tabela acima podemos perceber que os modelos de Regressão Logística e XGBClassifier possuem valores de Recall muito próximos. Entretanto, como o modelo XGBClassifier me dá a liberdade de manipular mais hiperparâmetros e, portanto, melhorar a qualidade da solução optei por utilizar esse modelo."
      ]
    },
    {
      "cell_type": "markdown",
      "metadata": {
        "id": "OFtpJ76Fa4YP"
      },
      "source": [
        "### Otimização dos hiperparâmetros\n",
        "\n",
        "Para identificar os melhores hiperparâmetros do modelo utilizei o GridSearch e defini uma taxa de aprendizado de 0.1 para desacelerar a taxa de aprendizado do algoritmo e dessa forma evitar um overfit com os dados de treino.\n",
        "\n",
        "*   Para diminuir o tempo de reprocessamento do GridSearch realizei um ajuste fino dos hiperparâmetros individualmente em rodadas, sempre definindo o modelo da rodada seguinte com base nos hiperparâmetros ótimos da anterior. \n",
        "*   Para definir os intervalos que os hiperparâmetros foram testados consultei os valores default na documentação da biblioteca do XGBoost e fui realizando ajustes finos.\n",
        "\n",
        "**1ª rodada ✔**\n",
        "*   O primeiro hiperparâmetro que foi testado foi o `n_estimators` e obtivemos que o seu melhor resultado é 8 e o modelo conseguiu aumentar o seu o Recall para aproximadamente 0.86.\n",
        "\n"
      ]
    },
    {
      "cell_type": "code",
      "metadata": {
        "id": "FJ1ucJ7bHMKh",
        "colab": {
          "base_uri": "https://localhost:8080/"
        },
        "outputId": "294cc1c4-c219-4c7b-c11c-350ab91782be"
      },
      "source": [
        "xgb = XGBClassifier(learning_rate=0.1)\n",
        "\n",
        "#importar pacotes\n",
        "from sklearn.model_selection import GridSearchCV\n",
        "\n",
        "param_grid = {\n",
        "    'n_estimators':range(0,10,1),\n",
        "    }\n",
        "\n",
        "#identificar melhores parâmetros\n",
        "grid_search=GridSearchCV(xgb,param_grid,scoring='recall')\n",
        "grid_result=grid_search.fit(X_train_rus,y_train_rus)\n",
        "\n",
        "#resultados\n",
        "print('Melhor {} para {}'.format(grid_result.best_score_,grid_result.best_params_))"
      ],
      "execution_count": null,
      "outputs": [
        {
          "output_type": "stream",
          "name": "stdout",
          "text": [
            "Melhor 0.7974504321301474 para {'n_estimators': 6}\n"
          ]
        }
      ]
    },
    {
      "cell_type": "markdown",
      "metadata": {
        "id": "TNtrmXykjeDl"
      },
      "source": [
        "**2ª rodada ✔**\n",
        "\n",
        "*   Em seguida testei os hiperparâmetros `max_depth` e `min_child_weight` e obtive para amabos valores ótimos iguais a 1 e o Recall aumentou para aproximadamente 0.89"
      ]
    },
    {
      "cell_type": "code",
      "metadata": {
        "colab": {
          "base_uri": "https://localhost:8080/"
        },
        "id": "Q6wJQyBnbIDo",
        "outputId": "1f3b5495-4df9-487b-dcf7-532994a61f50"
      },
      "source": [
        "#definir modelo com hiperparâmetros da rodada anterior\n",
        "xgb = XGBClassifier(learning_rate=0.1,n_estimators=8)\n",
        "\n",
        "param_grid = {\n",
        "    'max_depth':range(1,10,1),\n",
        "    'min_child_weight':range(1,10,1)\n",
        "    }\n",
        "\n",
        "#identificar melhores parâmetros\n",
        "grid_search=GridSearchCV(xgb,param_grid,scoring='recall')\n",
        "grid_result=grid_search.fit(X_train_rus,y_train_rus)\n",
        "\n",
        "#resultados\n",
        "print('Melhor {} para {}'.format(grid_result.best_score_,grid_result.best_params_))"
      ],
      "execution_count": null,
      "outputs": [
        {
          "output_type": "stream",
          "name": "stdout",
          "text": [
            "Melhor 0.8794407727503813 para {'max_depth': 1, 'min_child_weight': 1}\n"
          ]
        }
      ]
    },
    {
      "cell_type": "markdown",
      "metadata": {
        "id": "8bod91_wkbUv"
      },
      "source": [
        "**3ª rodada ✔**\n",
        "\n",
        "*   Continuando o processo, testei o gamma e o melhor resultado obtido foi 1 (default) e o valor do Recall quase não alterou."
      ]
    },
    {
      "cell_type": "code",
      "metadata": {
        "colab": {
          "base_uri": "https://localhost:8080/"
        },
        "id": "W3G0y5eJiTVf",
        "outputId": "6a49ac91-c1c8-45df-9172-477f94a03265"
      },
      "source": [
        "#definir modelo com hiperparâmetros da rodada anterior\n",
        "xgb = XGBClassifier(learning_rate=0.1,n_estimators=8,max_depth=1,min_child_weight=1)\n",
        "\n",
        "param_grid = {\n",
        "    'gamma':range(0,5,1),\n",
        "    }\n",
        "\n",
        "#identificar melhores parâmetros\n",
        "grid_search=GridSearchCV(xgb,param_grid,scoring='recall')\n",
        "grid_result=grid_search.fit(X_train_rus,y_train_rus)\n",
        "\n",
        "#resultados\n",
        "print('Melhor {} para {}'.format(grid_result.best_score_,grid_result.best_params_))"
      ],
      "execution_count": null,
      "outputs": [
        {
          "output_type": "stream",
          "name": "stdout",
          "text": [
            "Melhor 0.8794407727503813 para {'gamma': 0}\n"
          ]
        }
      ]
    },
    {
      "cell_type": "markdown",
      "metadata": {
        "id": "LZuxYGPelRgz"
      },
      "source": [
        "**4ª rodada ✔**\n",
        "\n",
        "*   Por fim, testei a `learning_rate` e obtive o melhor resultado como 0.001 e o valor do Recall permaneceu inalterado dando fim ao nosso processo de tunning dos hiperparâmetros"
      ]
    },
    {
      "cell_type": "code",
      "metadata": {
        "colab": {
          "base_uri": "https://localhost:8080/"
        },
        "id": "JOj_y-lTkn_k",
        "outputId": "c55ebc15-3672-40b5-d446-0af0bc04bd3c"
      },
      "source": [
        "#definir modelo com hiperparâmetros da rodada anterior\n",
        "xgb = XGBClassifier(learning_rate=0.1,n_estimators=8,max_depth=1,min_child_weight=1,gamma=0)\n",
        "\n",
        "param_grid = {\n",
        "    'learning_rate':[0.001, 0.01, 0.1, 1]\n",
        "    }\n",
        "\n",
        "#identificar melhores parâmetros\n",
        "grid_search=GridSearchCV(xgb,param_grid,scoring='recall')\n",
        "grid_result=grid_search.fit(X_train_rus,y_train_rus)\n",
        "\n",
        "#resultados\n",
        "print('Melhor {} para {}'.format(grid_result.best_score_,grid_result.best_params_))"
      ],
      "execution_count": null,
      "outputs": [
        {
          "output_type": "stream",
          "name": "stdout",
          "text": [
            "Melhor 0.8794407727503813 para {'learning_rate': 0.001}\n"
          ]
        }
      ]
    },
    {
      "cell_type": "markdown",
      "metadata": {
        "id": "I5iqvV4Ol_3p"
      },
      "source": [
        "Podemos extrair desse passo a passo que o ajuste fino dos hiperparâmetros conseguiu elevar o valor do Recall que antes era de 0.81 para 0.89, melhoria considerável que irá otimizar o resultado da nossa análise.\n",
        "\n",
        "\n",
        "Com o modelo definido e os hiperparâmetros ajustados, agora devemos rodar o modelo e realizar as previsões."
      ]
    },
    {
      "cell_type": "code",
      "metadata": {
        "id": "8CvYV_QRlvIs"
      },
      "source": [
        "#modelo com hiperparâmetros ajustados\n",
        "xgb = XGBClassifier(learning_rate=0.001,n_estimators=8,max_depth=1,min_child_weight=1,gamma=0)\n",
        "\n",
        "#treinar o modelo\n",
        "xgb.fit(X_train_rus,y_train_rus)\n",
        "\n",
        "#fazer previsões\n",
        "X_test=scaler.transform(X_test)\n",
        "y_prev=xgb.predict(X_test)"
      ],
      "execution_count": null,
      "outputs": []
    },
    {
      "cell_type": "code",
      "metadata": {
        "colab": {
          "base_uri": "https://localhost:8080/"
        },
        "id": "1yo3sUaHmlAw",
        "outputId": "1d7f5400-3912-4d29-9ceb-2efbe798d49a"
      },
      "source": [
        "#relatório de classificação\n",
        "from sklearn.metrics import classification_report\n",
        "print(classification_report(y_test, y_prev))"
      ],
      "execution_count": null,
      "outputs": [
        {
          "output_type": "stream",
          "name": "stdout",
          "text": [
            "              precision    recall  f1-score   support\n",
            "\n",
            "           0       0.94      0.55      0.70      1294\n",
            "           1       0.42      0.90      0.58       467\n",
            "\n",
            "    accuracy                           0.65      1761\n",
            "   macro avg       0.68      0.73      0.64      1761\n",
            "weighted avg       0.80      0.65      0.67      1761\n",
            "\n"
          ]
        }
      ]
    },
    {
      "cell_type": "code",
      "metadata": {
        "colab": {
          "base_uri": "https://localhost:8080/"
        },
        "id": "8yatx761oCoI",
        "outputId": "867bc8de-ccc6-45ae-9893-027660e728aa"
      },
      "source": [
        "# imprimir a área sob a curva\n",
        "from sklearn.metrics import roc_auc_score\n",
        "print(\"AUC: {:.4f}\\n\".format(roc_auc_score(y_test, y_pred)))"
      ],
      "execution_count": null,
      "outputs": [
        {
          "output_type": "stream",
          "name": "stdout",
          "text": [
            "AUC: 0.5039\n",
            "\n"
          ]
        }
      ]
    },
    {
      "cell_type": "code",
      "metadata": {
        "colab": {
          "base_uri": "https://localhost:8080/",
          "height": 555
        },
        "id": "oJ5yGC_aoLcU",
        "outputId": "875fc618-9fea-442c-fdb7-3c757e2b027f"
      },
      "source": [
        "#plotar matriz de confusão\n",
        "from sklearn.metrics import confusion_matrix\n",
        "from sklearn.metrics import recall_score\n",
        "import scikitplot as skplt\n",
        "\n",
        "skplt.metrics.plot_confusion_matrix(y_test,y_prev,normalize=True)\n",
        "\n",
        "#relatório de classificação\n",
        "from sklearn.metrics import classification_report\n",
        "print('\\t\\t Relatório de Classificação\\n\\n',classification_report(y_test,y_prev))\n",
        "\n",
        "#calcular acurácia do modelo\n",
        "from sklearn.metrics import accuracy_score\n",
        "print('\\nRecall:\\t',recall_score(y_test,y_prev))\n",
        "\n",
        "#calcular área sob a curva\n",
        "from sklearn.metrics import roc_auc_score\n",
        "print('\\nÁrea sob a curva:\\t',roc_auc_score(y_test,y_prev))"
      ],
      "execution_count": null,
      "outputs": [
        {
          "output_type": "stream",
          "name": "stdout",
          "text": [
            "\t\t Relatório de Classificação\n",
            "\n",
            "               precision    recall  f1-score   support\n",
            "\n",
            "           0       0.94      0.55      0.70      1294\n",
            "           1       0.42      0.90      0.58       467\n",
            "\n",
            "    accuracy                           0.65      1761\n",
            "   macro avg       0.68      0.73      0.64      1761\n",
            "weighted avg       0.80      0.65      0.67      1761\n",
            "\n",
            "\n",
            "Recall:\t 0.9036402569593148\n",
            "\n",
            "Área sob a curva:\t 0.7288680419263345\n"
          ]
        },
        {
          "output_type": "display_data",
          "data": {
            "image/png": "[encoded data removed]",
            "text/plain": [
              "<Figure size 432x288 with 2 Axes>"
            ]
          },
          "metadata": {
            "needs_background": "light"
          }
        }
      ]
    },
    {
      "cell_type": "markdown",
      "metadata": {
        "id": "kiPJ2kwwwse1"
      },
      "source": [
        "* Com o processo de otimização dos hiperparâmetros conseguimos que o modelo mantivesse o Recall estimado anteriormente. Isto é, em 90% dos casos ele consegue identificar um cliente desistente que de fato é desistente e a empresa consegue tomar medidas preventivas antes que o cliente desista de usar os serviços, importante em um mercado tão concorrido e com pouca diferenciação.\n",
        "* Nos casos que o modelo identifica um cliente usual como desistente, em torno de 45% dos cliente normais, não há danos no relacionamento com o cliente pois  a operadora provavelmente irá entrar em contato oferecendo melhores condições."
      ]
    }
  ]
}